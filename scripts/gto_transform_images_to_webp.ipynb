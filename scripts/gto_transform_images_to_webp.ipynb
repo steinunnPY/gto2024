{
 "cells": [
  {
   "cell_type": "code",
   "id": "initial_id",
   "metadata": {
    "collapsed": true,
    "ExecuteTime": {
     "end_time": "2024-11-15T11:16:53.298725Z",
     "start_time": "2024-11-15T11:16:53.295653Z"
    }
   },
   "source": [
    "from PIL import Image\n",
    "import os"
   ],
   "outputs": [],
   "execution_count": 3
  },
  {
   "metadata": {
    "ExecuteTime": {
     "end_time": "2024-11-15T11:18:12.300770Z",
     "start_time": "2024-11-15T11:17:41.074688Z"
    }
   },
   "cell_type": "code",
   "source": [
    "# Specify the folder containing .png images\n",
    "folder_path = \"images/\"\n",
    "\n",
    "# Loop through all files in the folder\n",
    "for filename in os.listdir(folder_path):\n",
    "    if filename.lower().endswith(\".png\"):\n",
    "        # Full path of the .png image\n",
    "        png_path = os.path.join(folder_path, filename)\n",
    "\n",
    "        # Open the image\n",
    "        img = Image.open(png_path)\n",
    "\n",
    "        # Convert to .webp\n",
    "        webp_path = os.path.join(folder_path, os.path.splitext(filename)[0] + \".webp\")\n",
    "        img.save(webp_path, \"WEBP\")\n",
    "\n",
    "        print(f\"Converted {filename} to {webp_path}\")"
   ],
   "id": "3a7ebd6d588e0c41",
   "outputs": [
    {
     "name": "stdout",
     "output_type": "stream",
     "text": [
      "Converted 10steps.png to images/10steps.webp\n",
      "Converted 5principles.png to images/5principles.webp\n",
      "Converted domains.png to images/domains.webp\n",
      "Converted domains_large.png to images/domains_large.webp\n",
      "Converted gto_gov_logo_black.png to images/gto_gov_logo_black.webp\n",
      "Converted gto_gov_logo_white.png to images/gto_gov_logo_white.webp\n",
      "Converted gto_home_banner.png to images/gto_home_banner.webp\n",
      "Converted gto_logo.png to images/gto_logo.webp\n",
      "Converted gto_logo_black.png to images/gto_logo_black.webp\n",
      "Converted gto_logo_white.png to images/gto_logo_white.webp\n",
      "Converted gto_report.png to images/gto_report.webp\n",
      "Converted infographic_button.png to images/infographic_button.webp\n",
      "Converted logo.png to images/logo.webp\n",
      "Converted logo_hvitt.png to images/logo_hvitt.webp\n",
      "Converted now_then.png to images/now_then.webp\n",
      "Converted phone_gto_home_banner.png to images/phone_gto_home_banner.webp\n",
      "Converted py_gto_timeline.png to images/py_gto_timeline.webp\n",
      "Converted sistema_salud_gto_logo.png to images/sistema_salud_gto_logo.webp\n",
      "Converted trendy_23.png to images/trendy_23.webp\n"
     ]
    }
   ],
   "execution_count": 4
  },
  {
   "metadata": {},
   "cell_type": "code",
   "outputs": [],
   "execution_count": null,
   "source": "",
   "id": "354fb5d8ae798422"
  }
 ],
 "metadata": {
  "kernelspec": {
   "display_name": "Python 3",
   "language": "python",
   "name": "python3"
  },
  "language_info": {
   "codemirror_mode": {
    "name": "ipython",
    "version": 2
   },
   "file_extension": ".py",
   "mimetype": "text/x-python",
   "name": "python",
   "nbconvert_exporter": "python",
   "pygments_lexer": "ipython2",
   "version": "2.7.6"
  }
 },
 "nbformat": 4,
 "nbformat_minor": 5
}
